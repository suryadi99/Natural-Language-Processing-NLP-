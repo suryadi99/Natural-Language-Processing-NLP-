{
  "nbformat": 4,
  "nbformat_minor": 0,
  "metadata": {
    "colab": {
      "name": "Tugas No 1_Kelompok Nougat.ipynb",
      "provenance": [],
      "collapsed_sections": []
    },
    "kernelspec": {
      "name": "python3",
      "display_name": "Python 3"
    },
    "language_info": {
      "name": "python"
    }
  },
  "cells": [
    {
      "cell_type": "markdown",
      "metadata": {
        "id": "rBa1yYmITdKp"
      },
      "source": [
        "#**Tugas Nomor 1**\n",
        "\n",
        "Nama Kelompok : Nougat\n",
        "\n",
        "Nama Anggota  : \n",
        "1. Suryadi (1706071245)\n",
        "2. Kukuh Nur Aji (2006494464)\n",
        "3. Jelita Permatasari (2006547123)"
      ]
    },
    {
      "cell_type": "markdown",
      "metadata": {
        "id": "fRUpUv8zTGba"
      },
      "source": [
        "#**Rangkuman Levensthein Distance**\n",
        "\n",
        "Rangkuman langkah-langkah Algoritma Levensthein\n",
        "Distance untuk implementasi pengecekan kesamaan antara 2 kata."
      ]
    },
    {
      "cell_type": "markdown",
      "metadata": {
        "id": "mRizWp_JVLae"
      },
      "source": [
        "# Levenshtein Distance \n",
        "Levenshtein Distance adalah suatu matriks untuk mengukur jumlah perbedaan antara dua string.\n",
        "\n",
        "  Levenshtein Distance dua buah string adalah jumlah minimum operasi yang dibutuhkan untuk mengubah satu string (source string) menjadi string yang lain\n",
        "(target string), dimana suatu operasi melibatkan penyisipan (insertion), penghapusan(deletion), dan penggantian (substitution) dari suatu karakter tunggal.\n",
        "\n",
        "  Levenshtein Distance sering digunakan pada aplikasi untuk menentukan seberapa mirip, atau berbedanya dua buah string, seperti aplikasi pengecekan suatu ejaan, atau yang biasa dikenal dengan spell checkers.\n",
        "\n",
        "# Algortima Levenshtein Distance\n",
        "\n",
        "Levenshtein distance melibatkan penggunaan matriks berukuran (n+1) &\n",
        "(m+1), dimana n dan m adalah panjang dari dua buah string. Di bawah ini terdapat\n",
        "pseudocode untuk sebuah fungsi Levenshtein Distance yang menangani 2 string,\n",
        "yaitu string s dengan panjang n, dan string t dengan panjang n. dan komputasi\n",
        "levenshtein distance antara keduanya sebagai berikut:\n"
      ]
    },
    {
      "cell_type": "markdown",
      "metadata": {
        "id": "cZoDXcMLd9B5"
      },
      "source": [
        "#Dari paper"
      ]
    },
    {
      "cell_type": "code",
      "metadata": {
        "colab": {
          "base_uri": "https://localhost:8080/",
          "height": 129
        },
        "id": "SU14zmqoV_eY",
        "outputId": "b0bdcac4-eaec-438b-c9cb-6492664d09de"
      },
      "source": [
        "int LevenshteinDistance(char s[1..m], char t[1..n])\n",
        " {\n",
        "   // d is a table with m+1 rows and n+1 columns\n",
        "   declare int d[0..m, 0..n]\n",
        "   declare int cost\n",
        "\n",
        "   for i from 0 to m\n",
        "     d[i, 0] := i // deletion\n",
        "   for j from 0 to n\n",
        "     d[0, j] := j // insertion\n",
        "  \n",
        "   for j from 1 to n\n",
        "   {\n",
        "     for i from 1 to m\n",
        "     {\n",
        "       if s[i] ≠ t[j] then \n",
        "          cost := 1\n",
        "       else\n",
        "          cost := 0\n",
        "       \n",
        " \n",
        "d[i, j] := minimum \n",
        " \n",
        " \n",
        "                    (\n",
        "                      d[i-1, j] + 1,  // deletion\n",
        "                      d[i, j-1] + 1,  // insertion\n",
        "                      d[i-1, j-1] + cost // substitution\n",
        "                    )\n",
        "     }\n",
        "   }"
      ],
      "execution_count": 13,
      "outputs": [
        {
          "output_type": "error",
          "ename": "SyntaxError",
          "evalue": "ignored",
          "traceback": [
            "\u001b[0;36m  File \u001b[0;32m\"<ipython-input-13-44eff0af410b>\"\u001b[0;36m, line \u001b[0;32m1\u001b[0m\n\u001b[0;31m    int LevenshteinDistance(char s[1..m], char t[1..n])\u001b[0m\n\u001b[0m                          ^\u001b[0m\n\u001b[0;31mSyntaxError\u001b[0m\u001b[0;31m:\u001b[0m invalid syntax\n"
          ]
        }
      ]
    },
    {
      "cell_type": "markdown",
      "metadata": {
        "id": "Fek1wxA4drG2"
      },
      "source": [
        "#Dari suryadi"
      ]
    },
    {
      "cell_type": "code",
      "metadata": {
        "id": "6AS9t21oZ5Sa"
      },
      "source": [
        "#contoh 2 kata\n",
        "kata_pertama = 'Student'\n",
        "kata_kedua = 'Studying'"
      ],
      "execution_count": 10,
      "outputs": []
    },
    {
      "cell_type": "code",
      "metadata": {
        "id": "h4FccwnuaCaf"
      },
      "source": [
        "def iterative_levenshtein(s, t):\n",
        "\n",
        "    rows = len(s)+1\n",
        "    cols = len(t)+1\n",
        "    dist = [[0 for x in range(cols)] for x in range(rows)]\n",
        "\n",
        "    for i in range(1, rows):\n",
        "        dist[i][0] = i\n",
        "\n",
        "    for i in range(1, cols):\n",
        "        dist[0][i] = i\n",
        "        \n",
        "    for col in range(1, cols):\n",
        "        for row in range(1, rows):\n",
        "            if s[row-1] == t[col-1]:\n",
        "                cost = 0\n",
        "            else:\n",
        "                cost = 2\n",
        "            dist[row][col] = min(dist[row-1][col] + 1,      # deletion\n",
        "                                 dist[row][col-1] + 1,      # insertion\n",
        "                                 dist[row-1][col-1] + cost) # substitution\n",
        "\n",
        "    for r in range(rows):\n",
        "        print(dist[r])\n",
        "\n",
        "    return 0"
      ],
      "execution_count": 11,
      "outputs": []
    },
    {
      "cell_type": "code",
      "metadata": {
        "colab": {
          "base_uri": "https://localhost:8080/"
        },
        "id": "EXQi8bV3aQbH",
        "outputId": "2d724e6d-d6c5-49a9-e5aa-e950a3f9a723"
      },
      "source": [
        "iterative_levenshtein(kata_pertama, kata_kedua)"
      ],
      "execution_count": 12,
      "outputs": [
        {
          "output_type": "stream",
          "text": [
            "[0, 1, 2, 3, 4, 5, 6, 7, 8]\n",
            "[1, 0, 1, 2, 3, 4, 5, 6, 7]\n",
            "[2, 1, 0, 1, 2, 3, 4, 5, 6]\n",
            "[3, 2, 1, 0, 1, 2, 3, 4, 5]\n",
            "[4, 3, 2, 1, 0, 1, 2, 3, 4]\n",
            "[5, 4, 3, 2, 1, 2, 3, 4, 5]\n",
            "[6, 5, 4, 3, 2, 3, 4, 3, 4]\n",
            "[7, 6, 5, 4, 3, 4, 5, 4, 5]\n"
          ],
          "name": "stdout"
        },
        {
          "output_type": "execute_result",
          "data": {
            "text/plain": [
              "0"
            ]
          },
          "metadata": {
            "tags": []
          },
          "execution_count": 12
        }
      ]
    },
    {
      "cell_type": "markdown",
      "metadata": {
        "id": "9k1ar9RBaqrJ"
      },
      "source": [
        "Bentuk pseudocode di atas dapat dijelaskan sebagai berikut :\n",
        "\n",
        "Langkah-langkah Algoritma Levenshtein distance\n",
        "\n",
        "**STEP 1**\n",
        "\n",
        "- Set n sebagai panjang dari s.\n",
        "- Set m sebagai panjang dari t.\n",
        "- Jika n = 0 maka jarak (distance) = m dan selesai \n",
        "- Jika m = 0 maka jarak (distance) = n dan selesai\n",
        "- Bangun matriks yang berisi 0..m baris dan 0..n kolom \n",
        "\n",
        "**STEP 2**\n",
        "\n",
        "- Inisialisasi baris pertama dengan 0,1,2,…,n\n",
        "- Inisialisasi kolom pertama dengan 0,1,2,…,m \n",
        "\n",
        "**STEP 3**\n",
        "\n",
        "Periksa tiap karakter s (dari i=1 sampai i=n)\n",
        "\n",
        "**STEP 4**\n",
        "\n",
        "Periksa tiap karakter t  (dari i=1 sampai i=m) \n",
        "\n",
        "**STEP 5**\n",
        "\n",
        "Jika s[ i ] = t[ j ] maka cost = 0\n",
        "Jika s[ i ] ≠ t[ j ] maka cost = 1 \n",
        "\n",
        "**STEP 6**\n",
        "\n",
        "Set sel d[ i, j ] dari matriks dengan minimum dari : \n",
        "- Sel di atas , ditambah 1 -> d[ i-1, j ] + 1\n",
        "- Sel di samping kiri, ditambah 1 -> d[ i, j-1 ] + 1\n",
        "- Sel di diagonal atas-kiri , ditambah cost -> d[ i-1, j-1 ] + cost \n",
        "\n",
        "**STEP 7**\n",
        "\n",
        "Setelah step iterasi (3,4,5,6) selesai, maka jarak Levenshtein\n",
        "Distance terletak pada sel d[ m, n ], yaitu sel di paling pojok kanan\n",
        "bawah. "
      ]
    },
    {
      "cell_type": "markdown",
      "metadata": {
        "id": "uBfrLIGicvyN"
      },
      "source": [
        "# Contoh Implementasi Levenshtein Distance\n",
        "Pada bagian ini akan dijelaskan contoh bagaimana algoritma Levenshtein\n",
        "Distance mengalami proses komputasinya.\n",
        "Contoh :\n",
        "Terdapat string sumber (source string) = STUDENT dan string target = STUDYING.\n"
      ]
    },
    {
      "cell_type": "code",
      "metadata": {
        "id": "WMkAbMTadakl"
      },
      "source": [
        ""
      ],
      "execution_count": null,
      "outputs": []
    }
  ]
}