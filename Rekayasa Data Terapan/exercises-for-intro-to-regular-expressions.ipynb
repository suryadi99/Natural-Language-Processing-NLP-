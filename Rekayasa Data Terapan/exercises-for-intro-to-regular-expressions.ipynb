{
 "cells": [
  {
   "cell_type": "code",
   "execution_count": 10,
   "metadata": {},
   "outputs": [],
   "source": [
    "import re"
   ]
  },
  {
   "cell_type": "code",
   "execution_count": 11,
   "metadata": {
    "_cell_guid": "41b617d6-27b6-49e3-9c6f-ec8ece611612",
    "_kg_hide-input": true,
    "_uuid": "be793a39eb560ca86805890bd61b3ded7cc5a479"
   },
   "outputs": [],
   "source": [
    "PROBLEM_1 = 'https://www.kaggle.com https://www.google.com https://www.wikipedia.com'\n",
    "PROBLEM_2 = '123, 012410, 01010, , 000, 111, 3495873, 3, not a number!, ...!@$,.'\n",
    "PROBLEM_3 = 'Looking for many endings? You should only be seeing one match.'\n",
    "PROBLEM_4 = 'Count the number of words in this sentence with at least five characters.'\n",
    "PROBLEM_5 = 'Extract these two normally formatted phone numbers from this sentence: (123) 456 7890, 123-456-7890.'\n",
    "PROBLEM_6 = '1234567890'\n",
    "PROBLEM_7 = \"An email address (imaginaryperson@imaginarymail.edu) in a sentence. Don't match Invalid_email@invalid.\"\n",
    "PROBLEM_8 = \"This is not a name, but Harry is. So is Susy. Sam should be missed as it's the first word in the sentence.\"\n",
    "PROBLEM_9 = \"https://www.kaggle.com https://www.google.com https://www.wikipedia.com http://phishing.com not.a.url gibberish41411 http https www.com\"\n",
    "PROBLEM_10 = \"Weird whitespace   issues\\t\\t\\t can be\\n\\n annoying.\"\n",
    "\n",
    "PHONE_FIELD_ENTRIES = '\\n\\n'.join([\n",
    "    \"1111111111\",\n",
    "    \"222 222 2222\",\n",
    "    \"333.333.3333\",\n",
    "    \"(444) 444-4444\",\n",
    "    \"Whitespace duplications can be hard to spot manually  555  555  5555 \",\n",
    "    \"Weird whitespace formats are still valid 666\\t666\\t6666\",\n",
    "    \"Two separate phone numbers in one field 777.777.7777, 888 888 8888\",\n",
    "    \"A common typo plus the US country code +1 999..999.9999\",\n",
    "    \"Not a phone number, too many digits 1234567891011\",\n",
    "    \"Not a phone number, too few digits 123.456\",\n",
    "    \"Not a phone number, nine digits (123) 456-789\",\n",
    "                                   ])"
   ]
  },
  {
   "cell_type": "code",
   "execution_count": 88,
   "metadata": {},
   "outputs": [
    {
     "data": {
      "text/plain": [
       "['https://www.kaggle.com',\n",
       " 'https://www.google.com',\n",
       " 'https://www.wikipedia.com']"
      ]
     },
     "execution_count": 88,
     "metadata": {},
     "output_type": "execute_result"
    }
   ],
   "source": [
    "#No 1\n",
    "re.findall(r = \\:\\/\\/(.[^/]+)/), PROBLEM_1)"
   ]
  },
  {
   "cell_type": "code",
   "execution_count": 90,
   "metadata": {},
   "outputs": [
    {
     "data": {
      "text/plain": [
       "'23, 24, , , , , 3495873, 3, not a number!, ...!@$,.'"
      ]
     },
     "execution_count": 90,
     "metadata": {},
     "output_type": "execute_result"
    }
   ],
   "source": [
    "#No 2\n",
    "re.sub(r'[0-1]+', '', PROBLEM_2)"
   ]
  },
  {
   "cell_type": "code",
   "execution_count": 45,
   "metadata": {},
   "outputs": [
    {
     "data": {
      "text/plain": [
       "['Looking', 'seeing']"
      ]
     },
     "execution_count": 45,
     "metadata": {},
     "output_type": "execute_result"
    }
   ],
   "source": [
    "#No 3\n",
    "re.findall(r'\\b(\\w+ing)\\b',  PROBLEM_3)"
   ]
  },
  {
   "cell_type": "code",
   "execution_count": 46,
   "metadata": {},
   "outputs": [
    {
     "data": {
      "text/plain": [
       "['Count',\n",
       " 'the',\n",
       " 'number',\n",
       " 'of',\n",
       " 'words',\n",
       " 'in',\n",
       " 'this',\n",
       " 'sentence',\n",
       " 'with',\n",
       " 'at',\n",
       " 'least',\n",
       " 'five',\n",
       " 'characters']"
      ]
     },
     "execution_count": 46,
     "metadata": {},
     "output_type": "execute_result"
    }
   ],
   "source": [
    "#No 4\n",
    "re.findall(r'\\w+', PROBLEM_4)"
   ]
  },
  {
   "cell_type": "code",
   "execution_count": 60,
   "metadata": {},
   "outputs": [
    {
     "data": {
      "text/plain": [
       "['(123) 456 7890', '123-456-7890']"
      ]
     },
     "execution_count": 60,
     "metadata": {},
     "output_type": "execute_result"
    }
   ],
   "source": [
    "#No 5\n",
    "re.findall(r'[\\+\\(]?[1-9][0-9 .\\-\\(\\)]{8,}[0-9]', PROBLEM_5)"
   ]
  },
  {
   "cell_type": "code",
   "execution_count": 14,
   "metadata": {
    "scrolled": true
   },
   "outputs": [
    {
     "data": {
      "text/plain": [
       "'4567890'"
      ]
     },
     "execution_count": 14,
     "metadata": {},
     "output_type": "execute_result"
    }
   ],
   "source": [
    "#No 6\n",
    "re.sub(r'\\d{3}(?=\\d{7})','', PROBLEM_6) #first 3 digits are the area code"
   ]
  },
  {
   "cell_type": "code",
   "execution_count": 8,
   "metadata": {},
   "outputs": [
    {
     "data": {
      "text/plain": [
       "['imaginarymail', 'invalid']"
      ]
     },
     "execution_count": 8,
     "metadata": {},
     "output_type": "execute_result"
    }
   ],
   "source": [
    "#No 7\n",
    "re.findall(r\"(?<=@)[^.]+(?=\\.)\", PROBLEM_7)"
   ]
  },
  {
   "cell_type": "code",
   "execution_count": 9,
   "metadata": {
    "scrolled": true
   },
   "outputs": [
    {
     "data": {
      "text/plain": [
       "['Harry', 'Susy']"
      ]
     },
     "execution_count": 9,
     "metadata": {},
     "output_type": "execute_result"
    }
   ],
   "source": [
    "#No 8\n",
    "re.findall(r'(?<!\\. )(?<!^)\\b[A-Z]\\w*', PROBLEM_8)"
   ]
  },
  {
   "cell_type": "code",
   "execution_count": 95,
   "metadata": {},
   "outputs": [
    {
     "data": {
      "text/plain": [
       "['http://phishing.com']"
      ]
     },
     "execution_count": 95,
     "metadata": {},
     "output_type": "execute_result"
    }
   ],
   "source": [
    "#No 9\n",
    "re.findall('http?://(?:[-\\w.]|(?:%[\\da-fA-F]{2}))+', PROBLEM_9)"
   ]
  },
  {
   "cell_type": "code",
   "execution_count": 12,
   "metadata": {},
   "outputs": [
    {
     "data": {
      "text/plain": [
       "'Weird whitespace issues can be annoying.'"
      ]
     },
     "execution_count": 12,
     "metadata": {},
     "output_type": "execute_result"
    }
   ],
   "source": [
    "#No 10\n",
    "re.sub(r\"\\s+\",\" \", PROBLEM_10, flags = re.I)"
   ]
  },
  {
   "cell_type": "markdown",
   "metadata": {
    "_cell_guid": "5847b29c-d481-4c78-97dc-eb3405543658",
    "_uuid": "52ae0a40fd62048a3e9100f613f74d1f549e484e"
   },
   "source": [
    "### Warmup problems:\n",
    "You can test each problem in this section with the strings named like `PROBLEM_1`, `PROBLEM_2` etc. Try writing your first draft regex for each problem without looking at the problem input; this will help you practice for cases where the inputs are too large to review the edge cases manually.\n",
    "\n",
    "1. Extract the domain name from these simple urls, which always start with `http` and end with `.com`.\n",
    "    - Hint: the `match any character` metacharacter will be very helpful here. \n",
    "- Write a pattern that will returns numbers containing no zeros or ones.\n",
    "    - Hint: you can solve this with a pattern just seven characters long with the word boundary special character and a custom character class.\n",
    "- Write a pattern to count the number of sentences that end with a word ending in 'ing' or 'ings'.\n",
    "    - Hint: if you find that you're matching more items than expected, try a regex tester like [Pythex](pythex.org) so you can visualize exactly what's going wrong. \n",
    "- Count the number of words in this sentence with at least five characters.\n",
    "- Extract the two phone numbers from this sentence.\n",
    "- Re-write the pattern '\\d{3}(?=\\d{7})' so that it returns everything in the phone number except for the area code.\n",
    "- Write a pattern to extract the domain name from an email address in a string. For this sentence, notreal@notmail.com should return 'notmail'.\n",
    "- Identify all of words that look like names in the sentence. In other words, those which are capitalized but aren't the first word in the sentence.\n",
    "- Find the valid urls that use http instead of https.\n",
    "- Tidy up the weird whitespace problems with the problem's sentence.\n",
    "\n",
    "### Advanced Exercises\n",
    "1. Extract all of the valid phone numbers from the string PHONE_FIELD_ENTRIES. You should get one phone number for each of the numbers 1-9. This one may be easier if you tackle it in stages.\n",
    "- Extract the date ranges from the description field in [this dataset's documentation file](https://www.kaggle.com/sohier/nber-macrohistory-database/data). \n",
    "- Identify the people who contributed to books in this [library collections dataset](https://www.kaggle.com/seattle-public-library/seattle-library-checkout-records/data). You can find the relevant data in the Title column of the `Library_Collection_Inventory.csv`.\n",
    "- Identify all imports used [in this notebook](https://www.kaggle.com/sohier/static-copy-of-recommendation-engine-notebook). Then, count the uses of each of those libraries. Note that the author used several different import styles! You can read the notebook's source code into Python with: \n",
    "\n",
    "```with open(\"../input/static-copy-of-recommendation-engine-notebook/recommendation_engine.ipynb\", \"r\") as f_open:\n",
    "    df = pd.DataFrame(json.load(f_open)['cells'])```\n",
    "\n",
    "5\\. Take one of your own kernels and do a style analysis. What's the shortest variable name you used? Do your function names follow [PEP8](https://www.python.org/dev/peps/pep-0008/)?\n",
    "\n"
   ]
  }
 ],
 "metadata": {
  "kernelspec": {
   "display_name": "Python 3",
   "language": "python",
   "name": "python3"
  },
  "language_info": {
   "codemirror_mode": {
    "name": "ipython",
    "version": 3
   },
   "file_extension": ".py",
   "mimetype": "text/x-python",
   "name": "python",
   "nbconvert_exporter": "python",
   "pygments_lexer": "ipython3",
   "version": "3.8.3"
  }
 },
 "nbformat": 4,
 "nbformat_minor": 1
}
